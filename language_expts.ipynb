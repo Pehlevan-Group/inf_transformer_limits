{
 "cells": [
  {
   "cell_type": "code",
   "execution_count": 7,
   "id": "fa4b1c2d-62c4-4de4-82dc-c0b31e9025d7",
   "metadata": {},
   "outputs": [
    {
     "name": "stderr",
     "output_type": "stream",
     "text": [
      "/n/home08/bbordelon/.conda/envs/flax/lib/python3.10/site-packages/tqdm/auto.py:21: TqdmWarning: IProgress not found. Please update jupyter and ipywidgets. See https://ipywidgets.readthedocs.io/en/stable/user_install.html\n",
      "  from .autonotebook import tqdm as notebook_tqdm\n"
     ]
    }
   ],
   "source": [
    "from datasets import load_dataset\n",
    "from transformers import AutoTokenizer\n",
    "from transformers import GPT2TokenizerFast"
   ]
  },
  {
   "cell_type": "code",
   "execution_count": 8,
   "id": "88839ff3-ff30-4bd6-b3ee-a207ed49ce6f",
   "metadata": {},
   "outputs": [
    {
     "name": "stdout",
     "output_type": "stream",
     "text": [
      "{'id': '5733be284776f41900661182', 'title': 'University_of_Notre_Dame', 'context': 'Architecturally, the school has a Catholic character. Atop the Main Building\\'s gold dome is a golden statue of the Virgin Mary. Immediately in front of the Main Building and facing it, is a copper statue of Christ with arms upraised with the legend \"Venite Ad Me Omnes\". Next to the Main Building is the Basilica of the Sacred Heart. Immediately behind the basilica is the Grotto, a Marian place of prayer and reflection. It is a replica of the grotto at Lourdes, France where the Virgin Mary reputedly appeared to Saint Bernadette Soubirous in 1858. At the end of the main drive (and in a direct line that connects through 3 statues and the Gold Dome), is a simple, modern stone statue of Mary.', 'question': 'To whom did the Virgin Mary allegedly appear in 1858 in Lourdes France?', 'answers': {'text': ['Saint Bernadette Soubirous'], 'answer_start': [515]}}\n"
     ]
    }
   ],
   "source": [
    "print(load_dataset('squad', split='train')[0])"
   ]
  },
  {
   "cell_type": "code",
   "execution_count": 32,
   "id": "8d90964c-abf3-4712-a41d-336ccdf4b001",
   "metadata": {},
   "outputs": [],
   "source": [
    "MAX_LEN = 128 # length of the context window (consider making this longer)\n",
    "BATCH_SIZE = 32 # size of the batches\n",
    "\n",
    "ds = load_dataset('c4', 'en', split='train', streaming = True)\n",
    "#ds = ds.with_format('jax')\n",
    "shuff_ds = ds.shuffle(seed = 0, buffer_size = 10000)\n",
    "\n",
    "tokenizer = GPT2TokenizerFast.from_pretrained(\"openai-community/gpt2\")\n",
    "tokenizer.add_special_tokens({'pad_token': '[PAD]'})\n",
    "\n",
    "# encoder function: GPT byte encoding\n",
    "def encode(examples):\n",
    "    return tokenizer(examples['text'], truncation=True, padding='max_length', max_length = MAX_LEN)\n",
    "\n",
    "dataset = shuff_ds.map(encode, batched=True, batch_size = BATCH_SIZE, remove_columns=[\"timestamp\", \"url\"])"
   ]
  },
  {
   "cell_type": "code",
   "execution_count": 14,
   "id": "3ef08e73-d7b5-4ec4-af7e-e1f64871013d",
   "metadata": {},
   "outputs": [
    {
     "name": "stdout",
     "output_type": "stream",
     "text": [
      "Vocabulary\n",
      "50258\n"
     ]
    }
   ],
   "source": [
    "VOCAB_SIZE = len(tokenizer)\n",
    "\n",
    "print(\"Vocabulary\")\n",
    "print(VOCAB_SIZE)\n"
   ]
  },
  {
   "cell_type": "code",
   "execution_count": 35,
   "id": "69e7c2df-240b-4e31-91f4-6dfba3dfdb8f",
   "metadata": {},
   "outputs": [
    {
     "name": "stdout",
     "output_type": "stream",
     "text": [
      "(32, 128)\n",
      "[[ 2953   360  4782 ...  3081   351   360]\n",
      " [ 2215   314  2722 ...   881   290 15488]\n",
      " [   50  5469   393 ...    12  1169    12]\n",
      " ...\n",
      " [  818   257  3344 ...  4900  8974 33984]\n",
      " [   47   522  3418 ...   257  1907   287]\n",
      " [22017    11   314 ...   290   655   787]]\n"
     ]
    }
   ],
   "source": [
    "import jax.numpy as jnp\n",
    "from torch.utils.data import DataLoader\n",
    "from transformers import DataCollatorForLanguageModeling\n",
    "import numpy as np\n",
    "\n",
    "# collate without mlm\n",
    "\n",
    "collate_fn = lambda x: np.array([xi[\"input_ids\"] for xi in x])\n",
    "\n",
    "#dataloader = DataLoader(dataset, collate_fn=DataCollatorForLanguageModeling(tokenizer, mlm=False))\n",
    "dataloader = DataLoader(dataset, batch_size = BATCH_SIZE, collate_fn = collate_fn)\n",
    "\n",
    "for i,batch in enumerate(dataloader):\n",
    "    \n",
    "    print(batch.shape)\n",
    "    print(batch)\n",
    "    \n",
    "    if i == 0:\n",
    "        break"
   ]
  },
  {
   "cell_type": "code",
   "execution_count": 74,
   "id": "ad4df7b6-6d32-4764-b3cc-9aa63b9fc664",
   "metadata": {},
   "outputs": [],
   "source": [
    "import jax\n",
    "import jax.numpy as jnp\n",
    "import numpy as np\n",
    "import flax.linen as nn\n",
    "import matplotlib.pyplot as plt\n",
    "from flax.linen.activation import softmax\n",
    "from einops import rearrange\n",
    "from jax import random, value_and_grad\n",
    "from jax.example_libraries import optimizers\n",
    "import optax\n",
    "import sys"
   ]
  },
  {
   "cell_type": "code",
   "execution_count": 16,
   "id": "3b42f8e2-807d-493d-87ef-9f93a88d3ab5",
   "metadata": {},
   "outputs": [
    {
     "name": "stdout",
     "output_type": "stream",
     "text": [
      "[cuda(id=0)]\n"
     ]
    }
   ],
   "source": [
    "print(jax.devices()) # hopefully sees cuda device"
   ]
  },
  {
   "cell_type": "code",
   "execution_count": 22,
   "id": "49509013-45d8-442b-b32e-1f50b4688001",
   "metadata": {},
   "outputs": [
    {
     "name": "stdout",
     "output_type": "stream",
     "text": [
      "(50, 50)\n",
      "{cuda(id=0)}\n"
     ]
    }
   ],
   "source": [
    "X = jnp.ones((50,50))\n",
    "print(X.shape)\n",
    "print(X.devices())"
   ]
  },
  {
   "cell_type": "code",
   "execution_count": 40,
   "id": "c934dd01-046c-495a-ae70-fb4972540d21",
   "metadata": {},
   "outputs": [
    {
     "name": "stdout",
     "output_type": "stream",
     "text": [
      "[[  1. -inf -inf ... -inf -inf -inf]\n",
      " [  1.   1. -inf ... -inf -inf -inf]\n",
      " [  1.   1.   1. ... -inf -inf -inf]\n",
      " ...\n",
      " [  1.   1.   1. ...   1. -inf -inf]\n",
      " [  1.   1.   1. ...   1.   1. -inf]\n",
      " [  1.   1.   1. ...   1.   1.   1.]]\n"
     ]
    }
   ],
   "source": [
    "causal_mask = jnp.ones((MAX_LEN, MAX_LEN))\n",
    "lower = jnp.tril(causal_mask)\n",
    "causal_mask = jnp.triu(causal_mask, k=1)\n",
    "causal_mask = lower + -jnp.inf * (causal_mask > 0.0)\n",
    "print(causal_mask)"
   ]
  },
  {
   "cell_type": "code",
   "execution_count": 103,
   "id": "d8a1f6b9-8d13-4eb3-9edb-0836af97fd3c",
   "metadata": {},
   "outputs": [],
   "source": [
    "class Causal_Attention(nn.Module):\n",
    "\n",
    "    scale_exp: jnp.float32\n",
    "    dim: int\n",
    "    heads: int\n",
    "    \n",
    "    def setup(self):\n",
    "        \n",
    "        self.c = 1.5 - self.scale_exp # exponent for the scale factor\n",
    "        kif_qk = nn.initializers.normal(stddev = self.dim**(self.c - 0.5) ) # possibly needs to be scaled with N\n",
    "        kif_v =  nn.initializers.normal(stddev = 1.0 ) # O_N(1) entries\n",
    "        # computes key, query, value\n",
    "        self.qk_layer = nn.Dense(features = 2 * self.heads * self.dim, kernel_init = kif_qk)\n",
    "        self.v_layer = nn.Dense(features = self.heads * self.dim, kernel_init = kif_v)\n",
    "        \n",
    "        return\n",
    "    \n",
    "    def __call__(self,inputs):\n",
    "        \n",
    "        qk = self.qk_layer(inputs) / inputs.shape[-1]**(self.c)  # (batch, loc, 3*h*d)\n",
    "        qk = rearrange( qk, 'b l (h d) -> b h l d' , h = self.heads) # (batch, heads, loc, d )\n",
    "        q,k = jnp.split(qk, 2, axis = -1) # gives q, k each of shape ( batch, heads, loc, d )\n",
    "        v = self.v_layer(inputs) / jnp.sqrt( inputs.shape[-1] )\n",
    "        v = rearrange(v, 'b l (h d) -> b h l d', h = self.heads)\n",
    "        \n",
    "        A = 1.0/ self.dim**(self.scale_exp) * jnp.einsum('ijkl,ijml->ijkm', q, k) # batch x heads x loc x loc\n",
    "        exp_A =  jnp.einsum('ijkl,kl->ijkl', jnp.exp(A), jnp.tril(jnp.ones((v.shape[2], v.shape[2]))))\n",
    "        phi_A = exp_A / exp_A.sum(axis = -1)[:,:,:,jnp.newaxis]  \n",
    "        \n",
    "        out = jnp.einsum('ijkl,ijlm->ijkm', phi_A, v) # (batch, head, loc, d)  \n",
    "        out = rearrange(out, 'b h l d -> b l (h d)')\n",
    "        return out\n",
    "    \n",
    "    \n",
    "class MLP_Block(nn.Module):\n",
    "\n",
    "    features: int\n",
    "    \n",
    "    @nn.compact\n",
    "    def __call__(self,x):\n",
    "        N = self.features\n",
    "        kif = nn.initializers.normal(stddev = 1.0) # O_N(1) entries\n",
    "        h = nn.Dense(features = 4*N, kernel_init = kif)(x) / jnp.sqrt(N)\n",
    "        h = nn.relu(h)\n",
    "        h = nn.Dense(features = N, kernel_init = kif)(x) / jnp.sqrt(4*N)\n",
    "        return h\n",
    "    \n",
    "\n",
    "class Transformer(nn.Module):\n",
    "    \"\"\"A simple Decoder only transformer\"\"\"\n",
    "  \n",
    "    dim: int\n",
    "    heads: int\n",
    "    depth: int\n",
    "    scale_exp: jnp.float32\n",
    "    adam_scale: int\n",
    "    beta: jnp.float32\n",
    "\n",
    "    @nn.compact\n",
    "    def __call__(self, x, train = True):\n",
    "        N = self.heads * self.dim\n",
    "        \n",
    "        kif_first= nn.initializers.normal(stddev = N**(-0.5*self.adam_scale) ) # O_N(1) entries\n",
    "        kif0 = nn.initializers.normal(stddev = 0.0 )\n",
    "        kif = nn.initializers.normal(stddev = 1.0) # O_N(1) entries\n",
    "        \n",
    "        ### TODO: add positional encoding\n",
    "        \n",
    "        # embed the batch x sequence integers to \n",
    "        x = N**(0.5 * self.adam_scale) * nn.Embed(VOCAB_SIZE, N, embedding_init = kif_first)(x) # batch x seq len x N\n",
    "        x = nn.relu(x)\n",
    "        for l in range(self.depth):\n",
    "            h = nn.LayerNorm()(x)\n",
    "            x = x + self.beta/jnp.sqrt(depth) * Causal_Attention(dim = self.dim, scale_exp = self.scale_exp, heads = self.heads)(h)\n",
    "            h = nn.LayerNorm()(x)\n",
    "            x = x + self.beta/jnp.sqrt(depth) * MLP_Block(features = N)(h)\n",
    "            \n",
    "        x = nn.LayerNorm()(x)\n",
    "        x = nn.Dense(features = VOCAB_SIZE, use_bias = False, kernel_init = kif)(x) / N**(1.0-0.5*self.adam_scale)   # for mean field scaling\n",
    "        return x"
   ]
  },
  {
   "cell_type": "code",
   "execution_count": 104,
   "id": "9ba69af2-9abc-408b-9a06-1786c4c30421",
   "metadata": {},
   "outputs": [
    {
     "name": "stdout",
     "output_type": "stream",
     "text": [
      " loss = 6.3192696571350195"
     ]
    }
   ],
   "source": [
    "dim = 256\n",
    "heads = 12\n",
    "depth = 10\n",
    "scale_exp = 1.0\n",
    "adam = False\n",
    "beta = 4.0\n",
    "\n",
    "lr = 2.0\n",
    "gamma = 0.25\n",
    "\n",
    "if adam:\n",
    "    adam_scale = 1\n",
    "    optimizer = optax.adam( lr / jnp.sqrt(heads*dim)  )\n",
    "else:\n",
    "    adam_scale = 0\n",
    "    optimizer = optax.sgd( heads * dim * gamma**2 *  lr)\n",
    "\n",
    "model = Transformer(dim, heads,depth, scale_exp = scale_exp, adam_scale = adam_scale, beta = beta)\n",
    "params = model.init(random.PRNGKey(0), jnp.ones((32,128), dtype = jnp.int32)) \n",
    "loss_fn = jax.jit(lambda params, Xb, yb: optax.softmax_cross_entropy_with_integer_labels(logits=model.apply(params, Xb), labels=yb).mean())\n",
    "val_grad_fn = jax.jit(value_and_grad(loss_fn))\n",
    "\n",
    "\n",
    "opt_state = optimizer.init(params)\n",
    "\n",
    "run_loss = 0.0\n",
    "\n",
    "T = 5000\n",
    "losses = []\n",
    "\n",
    "for t,batch in enumerate(dataloader):\n",
    "    \n",
    "    loss, grads = val_grad_fn(params, batch[:,:-1], batch[:,1:])\n",
    "    updates, opt_state = optimizer.update(grads, opt_state)\n",
    "    params = optax.apply_updates(params, updates)\n",
    "    run_loss =  t/(t+1) * run_loss + 1/(t+1) * loss\n",
    "    sys.stdout.write(f'\\r loss = {run_loss}')\n",
    "    losses += [run_loss]\n",
    "    if t > T:\n",
    "        break"
   ]
  },
  {
   "cell_type": "code",
   "execution_count": 108,
   "id": "8fb3d04c-bd18-42ca-97e2-204c9124ee80",
   "metadata": {},
   "outputs": [
    {
     "data": {
      "image/png": "[encoded data removed]",
      "text/plain": [
       "<Figure size 640x480 with 1 Axes>"
      ]
     },
     "metadata": {},
     "output_type": "display_data"
    }
   ],
   "source": [
    "plt.loglog(losses)\n",
    "plt.xlabel('Steps', fontsize = 20)\n",
    "plt.ylabel('Loss', fontsize = 20)\n",
    "plt.title(f'C4 First {T} Steps',fontsize = 20)\n",
    "plt.show()"
   ]
  },
  {
   "cell_type": "code",
   "execution_count": null,
   "id": "85079389-8207-42d1-ad18-7fd1b0ac5ba4",
   "metadata": {},
   "outputs": [],
   "source": []
  }
 ],
 "metadata": {
  "kernelspec": {
   "display_name": "Python [conda env:.conda-flax]",
   "language": "python",
   "name": "conda-env-.conda-flax-py"
  },
  "language_info": {
   "codemirror_mode": {
    "name": "ipython",
    "version": 3
   },
   "file_extension": ".py",
   "mimetype": "text/x-python",
   "name": "python",
   "nbconvert_exporter": "python",
   "pygments_lexer": "ipython3",
   "version": "3.10.10"
  }
 },
 "nbformat": 4,
 "nbformat_minor": 5
}
